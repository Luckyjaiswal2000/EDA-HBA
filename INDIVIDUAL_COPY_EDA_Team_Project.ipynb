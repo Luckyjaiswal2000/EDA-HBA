{
  "nbformat": 4,
  "nbformat_minor": 0,
  "metadata": {
    "colab": {
      "private_outputs": true,
      "provenance": [],
      "collapsed_sections": [
        "vncDsAP0Gaoa",
        "FJNUwmbgGyua",
        "w6K7xa23Elo4",
        "yQaldy8SH6Dl",
        "PH-0ReGfmX4f",
        "mDgbUHAGgjLW",
        "O_i_v8NEhb9l",
        "HhfV-JJviCcP",
        "Y3lxredqlCYt",
        "3RnN4peoiCZX",
        "x71ZqKXriCWQ",
        "7hBIi_osiCS2",
        "JlHwYmJAmNHm",
        "35m5QtbWiB9F",
        "PoPl-ycgm1ru",
        "H0kj-8xxnORC",
        "nA9Y7ga8ng1Z",
        "PBTbrJXOngz2",
        "u3PMJOP6ngxN",
        "dauF4eBmngu3",
        "bKJF3rekwFvQ",
        "MSa1f5Uengrz",
        "GF8Ens_Soomf",
        "0wOQAZs5pc--",
        "K5QZ13OEpz2H",
        "lQ7QKXXCp7Bj",
        "448CDAPjqfQr",
        "KSlN3yHqYklG",
        "t6dVpIINYklI",
        "ijmpgYnKYklI",
        "-JiQyfWJYklI",
        "EM7whBJCYoAo",
        "fge-S5ZAYoAp",
        "85gYPyotYoAp",
        "RoGjAbkUYoAp",
        "4Of9eVA-YrdM",
        "iky9q4vBYrdO",
        "F6T5p64dYrdO",
        "y-Ehk30pYrdP",
        "bamQiAODYuh1",
        "QHF8YVU7Yuh3",
        "GwzvFGzlYuh3",
        "qYpmQ266Yuh3",
        "OH-pJp9IphqM",
        "bbFf2-_FphqN",
        "_ouA3fa0phqN",
        "Seke61FWphqN",
        "PIIx-8_IphqN",
        "t27r6nlMphqO",
        "r2jJGEOYphqO",
        "b0JNsNcRphqO",
        "BZR9WyysphqO",
        "jj7wYXLtphqO",
        "eZrbJ2SmphqO",
        "rFu4xreNphqO",
        "YJ55k-q6phqO",
        "gCFgpxoyphqP",
        "OVtJsKN_phqQ",
        "lssrdh5qphqQ",
        "U2RJ9gkRphqQ",
        "1M8mcRywphqQ",
        "tgIPom80phqQ",
        "JMzcOPDDphqR",
        "x-EpHcCOp1ci",
        "X_VqEhTip1ck",
        "8zGJKyg5p1ck",
        "PVzmfK_Ep1ck",
        "n3dbpmDWp1ck",
        "ylSl6qgtp1ck",
        "ZWILFDl5p1ck",
        "M7G43BXep1ck",
        "Ag9LCva-p1cl",
        "E6MkPsBcp1cl",
        "2cELzS2fp1cl",
        "3MPXvC8up1cl",
        "NC_X3p0fY2L0",
        "UV0SzAkaZNRQ",
        "YPEH6qLeZNRQ",
        "q29F0dvdveiT",
        "EXh0U9oCveiU",
        "22aHeOlLveiV",
        "JcMwzZxoAimU",
        "8G2x9gOozGDZ",
        "gCX9965dhzqZ",
        "gIfDvo9L0UH2"
      ],
      "include_colab_link": true
    },
    "kernelspec": {
      "name": "python3",
      "display_name": "Python 3"
    },
    "language_info": {
      "name": "python"
    }
  },
  "cells": [
    {
      "cell_type": "markdown",
      "metadata": {
        "id": "view-in-github",
        "colab_type": "text"
      },
      "source": [
        "<a href=\"https://colab.research.google.com/github/Luckyjaiswal2000/EDA-HBA/blob/main/INDIVIDUAL_COPY_EDA_Team_Project.ipynb\" target=\"_parent\"><img src=\"https://colab.research.google.com/assets/colab-badge.svg\" alt=\"Open In Colab\"/></a>"
      ]
    },
    {
      "cell_type": "markdown",
      "source": [
        "# **Project Name**    -\n",
        "\n"
      ],
      "metadata": {
        "id": "vncDsAP0Gaoa"
      }
    },
    {
      "cell_type": "markdown",
      "source": [
        "##### **Project Type**    - EDA (Exploratory data analytics )\n",
        "##### **Contribution**    - Individual/Team\n",
        "##### **Team Member 1 -** LUCKY JAISWAL\n",
        "##### **Team Member 2 -** SACHIN PANDE\n",
        "##### **Team Member 3 -** ADITI JACHAK\n",
        "##### **Team Member 4 -** BHANU PRATAP SINGH"
      ],
      "metadata": {
        "id": "beRrZCGUAJYm"
      }
    },
    {
      "cell_type": "markdown",
      "source": [
        "# **Project Summary -**"
      ],
      "metadata": {
        "id": "FJNUwmbgGyua"
      }
    },
    {
      "cell_type": "markdown",
      "source": [
        "Write the summary here within 500-600 words."
      ],
      "metadata": {
        "id": "F6v_1wHtG2nS"
      }
    },
    {
      "cell_type": "markdown",
      "source": [
        "*italicized text*# **GitHub Link -**https://github.com/Luckyjaiswal2000/EDA-HBA"
      ],
      "metadata": {
        "id": "w6K7xa23Elo4"
      }
    },
    {
      "cell_type": "markdown",
      "source": [
        "Provide your GitHub Link here."
      ],
      "metadata": {
        "id": "h1o69JH3Eqqn"
      }
    },
    {
      "cell_type": "markdown",
      "source": [],
      "metadata": {
        "id": "MguZmPxu2W-f"
      }
    },
    {
      "cell_type": "markdown",
      "source": [
        "# **Problem Statement**\n",
        "Depenpding on the parameters about hotel industry provided to us in the given datat set, it is our objective to provide hotel management about  how to design effective advetisement campaign considering the target to improve hotel profitability."
      ],
      "metadata": {
        "id": "yQaldy8SH6Dl"
      }
    },
    {
      "cell_type": "markdown",
      "source": [
        "**Write Problem Statement Here.**"
      ],
      "metadata": {
        "id": "DpeJGUA3kjGy"
      }
    },
    {
      "cell_type": "markdown",
      "source": [
        "#### **Define Your Business Objective?**\n",
        "Objective of studying this dataset is to help hotel management in designing proper business strategy and effective advertisement campaign for targeted audience which can be hotel's potential customers."
      ],
      "metadata": {
        "id": "PH-0ReGfmX4f"
      }
    },
    {
      "cell_type": "markdown",
      "source": [
        "Answer Here."
      ],
      "metadata": {
        "id": "PhDvGCAqmjP1"
      }
    },
    {
      "cell_type": "markdown",
      "source": [
        "# **General Guidelines** : -  "
      ],
      "metadata": {
        "id": "mDgbUHAGgjLW"
      }
    },
    {
      "cell_type": "markdown",
      "source": [
        "1.   Well-structured, formatted, and commented code is required.\n",
        "2.   Exception Handling, Production Grade Code & Deployment Ready Code will be a plus. Those students will be awarded some additional credits.\n",
        "     \n",
        "     The additional credits will have advantages over other students during Star Student selection.\n",
        "       \n",
        "             [ Note: - Deployment Ready Code is defined as, the whole .ipynb notebook should be executable in one go\n",
        "                       without a single error logged. ]\n",
        "\n",
        "3.   Each and every logic should have proper comments.\n",
        "4. You may add as many number of charts you want. Make Sure for each and every chart the following format should be answered.\n",
        "        \n",
        "\n",
        "```\n",
        "# Chart visualization code\n",
        "```\n",
        "            \n",
        "\n",
        "*   Why did you pick the specific chart?\n",
        "*   What is/are the insight(s) found from the chart?\n",
        "* Will the gained insights help creating a positive business impact?\n",
        "Are there any insights that lead to negative growth? Justify with specific reason.\n",
        "\n",
        "5. You have to create at least 20 logical & meaningful charts having important insights.\n",
        "\n",
        "\n",
        "[ Hints : - Do the Vizualization in  a structured way while following \"UBM\" Rule.\n",
        "\n",
        "U - Univariate Analysis,\n",
        "\n",
        "B - Bivariate Analysis (Numerical - Categorical, Numerical - Numerical, Categorical - Categorical)\n",
        "\n",
        "M - Multivariate Analysis\n",
        " ]\n",
        "\n",
        "\n",
        "\n"
      ],
      "metadata": {
        "id": "ZrxVaUj-hHfC"
      }
    },
    {
      "cell_type": "markdown",
      "source": [
        "# ***Let's Begin !***"
      ],
      "metadata": {
        "id": "O_i_v8NEhb9l"
      }
    },
    {
      "cell_type": "markdown",
      "source": [
        "## ***1. Know Your Data***"
      ],
      "metadata": {
        "id": "HhfV-JJviCcP"
      }
    },
    {
      "cell_type": "markdown",
      "source": [
        "### Import Libraries"
      ],
      "metadata": {
        "id": "Y3lxredqlCYt"
      }
    },
    {
      "cell_type": "code",
      "source": [
        "# Import Libraries\n",
        "#all important libraries for project are imported\n",
        "import numpy as np\n",
        "import pandas as pd                     #library for data manipulation\n",
        "import matplotlib.pyplot as plt         #library for data visualisation\n",
        "import seaborn as sns                   #library for data visualisation"
      ],
      "metadata": {
        "id": "M8Vqi-pPk-HR"
      },
      "execution_count": null,
      "outputs": []
    },
    {
      "cell_type": "markdown",
      "source": [
        "### Dataset Loading"
      ],
      "metadata": {
        "id": "3RnN4peoiCZX"
      }
    },
    {
      "cell_type": "code",
      "source": [
        "# Mounting google drive so as to fetch data or files in colab\n",
        "from google.colab import drive\n",
        "drive.mount('/content/drive')"
      ],
      "metadata": {
        "id": "4CkvbW_SlZ_R"
      },
      "execution_count": null,
      "outputs": []
    },
    {
      "cell_type": "code",
      "source": [
        "#load the data set\n",
        "hba_df = pd.read_csv('/content/drive/MyDrive/aAlmabetter Project /Capestone project 1/Hotel Bookings.csv')"
      ],
      "metadata": {
        "id": "wunoJx0OkxQI"
      },
      "execution_count": null,
      "outputs": []
    },
    {
      "cell_type": "markdown",
      "source": [
        "### Dataset First View"
      ],
      "metadata": {
        "id": "x71ZqKXriCWQ"
      }
    },
    {
      "cell_type": "markdown",
      "source": [
        "### Dataset Rows & Columns count"
      ],
      "metadata": {
        "id": "7hBIi_osiCS2"
      }
    },
    {
      "cell_type": "code",
      "source": [
        "# Dataset First Look\n",
        "# set the view of the dataFrame to display all columns without hiding\n",
        "pd.options.display.max_columns = None\n",
        "#displays first five rows of the dataframe\n",
        "hba_df.head()"
      ],
      "metadata": {
        "id": "LWNFOSvLl09H"
      },
      "execution_count": null,
      "outputs": []
    },
    {
      "cell_type": "code",
      "source": [
        "\n",
        "# Dataset Rows & Columns count\n",
        "print(f\"Number of rows inoriginal dataset is : {hba_df.shape[0]}\")\n",
        "print(f\"Number of columns inoriginal dataset is : {hba_df.shape[1]}\")"
      ],
      "metadata": {
        "id": "Kllu7SJgmLij"
      },
      "execution_count": null,
      "outputs": []
    },
    {
      "cell_type": "markdown",
      "source": [
        "### Dataset Information"
      ],
      "metadata": {
        "id": "JlHwYmJAmNHm"
      }
    },
    {
      "cell_type": "code",
      "source": [
        "# Dataset Info\n",
        "#to dislpay basic info about the type of the data in column and name of all the columns in the  datasets\n",
        "print(f\"{hba_df.columns}/n\")\n",
        "print(f\"{hba_df.info()}\")"
      ],
      "metadata": {
        "id": "e9hRXRi6meOf"
      },
      "execution_count": null,
      "outputs": []
    },
    {
      "cell_type": "markdown",
      "source": [
        "#### Duplicate Values"
      ],
      "metadata": {
        "id": "35m5QtbWiB9F"
      }
    },
    {
      "cell_type": "code",
      "source": [
        "# Dataset Duplicate Value Count\n",
        "print(f'duplicate value in the dataset earlier : {hba_df.duplicated().sum()}\\n')\n",
        "c_hba_df = hba_df.copy()\n",
        "\n",
        "c_hba_df.drop_duplicates(inplace= True)\n",
        "print('duplicates in tha dataset now', {hba_df.duplicated().sum()})\n"
      ],
      "metadata": {
        "id": "1sLdpKYkmox0"
      },
      "execution_count": null,
      "outputs": []
    },
    {
      "cell_type": "markdown",
      "source": [
        "#### Missing Values/Null Values"
      ],
      "metadata": {
        "id": "PoPl-ycgm1ru"
      }
    },
    {
      "cell_type": "code",
      "source": [
        "# Missing Values/Null Values Count\n",
        "# checking null values in the dataset column by column and arranging them in descending order so as to identify columns with most number of null values\n",
        "null_value_info_df = pd.DataFrame(c_hba_df.isnull().sum().sort_values(ascending = False))\n",
        "null_value_info_df = null_value_info_df.rename(columns = {0 : \"no. of null values\"}).reset_index()\n",
        "null_value_info_df"
      ],
      "metadata": {
        "id": "GgHWkxvamxVg"
      },
      "execution_count": null,
      "outputs": []
    },
    {
      "cell_type": "code",
      "source": [
        "# Visualizing the missing values\n",
        "plt.figure(figsize = (9, 7))\n",
        "plt.title(\"Column wise number of null values in the dataset\")\n",
        "plt.bar(x = 'index', height = 'no. of null values', data = null_value_info_df)\n",
        "plt.xlabel('Columns')\n",
        "plt.xticks(rotation = 90)\n",
        "plt.ylabel('Number of null values')"
      ],
      "metadata": {
        "id": "3q5wnI3om9sJ"
      },
      "execution_count": null,
      "outputs": []
    },
    {
      "cell_type": "code",
      "source": [
        "# finding percentage of the null values in the dataset column by column so that we can decide how to handle them.\n",
        "# checking null values in the dataset column by column in terms of percentage and arranging them in descending order\n",
        "percent_null_value_info_df = pd.DataFrame(round((c_hba_df.isnull().sum() * 100) / len(c_hba_df), 3).sort_values(ascending = False))\n",
        "percent_null_value_info_df = percent_null_value_info_df.rename(columns = {0 : \"% null values\"})\n",
        "percent_null_value_info_df.head()"
      ],
      "metadata": {
        "id": "IhmGnqA6g_6m"
      },
      "execution_count": null,
      "outputs": []
    },
    {
      "cell_type": "code",
      "source": [
        "# removing mentioned row from the dataframe\n",
        "c_hba_df.drop(columns = ['company', 'agent'], inplace = True)"
      ],
      "metadata": {
        "id": "_S6-z_FVobcf"
      },
      "execution_count": null,
      "outputs": []
    },
    {
      "cell_type": "code",
      "source": [
        "# filling null values with most frequently appearing values(i.e. mode) in each respective columns\n",
        "c_hba_df['country'] = c_hba_df['country'].fillna(c_hba_df['country'].mode()[0])\n",
        "c_hba_df['children'] = c_hba_df['children'].fillna(c_hba_df['children'].mode()[0])"
      ],
      "metadata": {
        "id": "OSWmA_Myog2n"
      },
      "execution_count": null,
      "outputs": []
    },
    {
      "cell_type": "code",
      "source": [
        "# Checking for null values in the dataset after removing them from the dataset\n",
        "c_hba_df.isnull().sum()"
      ],
      "metadata": {
        "id": "wAUznEr_ok2H"
      },
      "execution_count": null,
      "outputs": []
    },
    {
      "cell_type": "code",
      "source": [
        "# checking the number of rows and columns after removing null values from the dataset\n",
        "print(f\"Number of rows in modified dataset is : {c_hba_df.shape[0]}\")\n",
        "print(f\"Number of columns in modified dataset is : {c_hba_df.shape[1]}\")"
      ],
      "metadata": {
        "id": "hs5ABn4zop6w"
      },
      "execution_count": null,
      "outputs": []
    },
    {
      "cell_type": "markdown",
      "source": [],
      "metadata": {
        "id": "Me-4ORNVYQxd"
      }
    },
    {
      "cell_type": "markdown",
      "source": [
        "### What did you know about your dataset?\n"
      ],
      "metadata": {
        "id": "H0kj-8xxnORC"
      }
    },
    {
      "cell_type": "markdown",
      "source": [
        "\n",
        "\n"
      ],
      "metadata": {
        "id": "gfoNAAC-nUe_"
      }
    },
    {
      "cell_type": "markdown",
      "source": [
        "## ***2. Understanding Your Variables***"
      ],
      "metadata": {
        "id": "nA9Y7ga8ng1Z"
      }
    },
    {
      "cell_type": "code",
      "source": [
        "# Dataset Columns\n",
        "list(c_hba_df.columns)"
      ],
      "metadata": {
        "id": "j7xfkqrt5Ag5"
      },
      "execution_count": null,
      "outputs": []
    },
    {
      "cell_type": "code",
      "source": [
        "# Dataset Describe\n",
        "c_hba_df.head(1)"
      ],
      "metadata": {
        "id": "DnOaZdaE5Q5t"
      },
      "execution_count": null,
      "outputs": []
    },
    {
      "cell_type": "code",
      "source": [
        "#Dataset describe\n",
        "c_hba_df.describe()"
      ],
      "metadata": {
        "id": "N1a0MRoG-G0_"
      },
      "execution_count": null,
      "outputs": []
    },
    {
      "cell_type": "markdown",
      "source": [
        "### Variables Description"
      ],
      "metadata": {
        "id": "PBTbrJXOngz2"
      }
    },
    {
      "cell_type": "markdown",
      "source": [
        "etails of the variable/column names\n",
        "\n",
        "* 'hotel' : Type of hotel (Resort Hotel or City Hotel)\n",
        "* 'is_canceled' : Cancelation status (canceled or not)\n",
        "* 'lead_time' : Days before arrival of the guest\n",
        "* 'arrival_date_year' : Booking year\n",
        "* 'arrival_date_month' : Booking month\n",
        "* 'arrival_date_week_number' : Booking week\n",
        "* 'arrival_date_day_of_month' : Booking date/day\n",
        "* 'stays_in_weekend_nights' : Number of weekends guest stayed\n",
        "* 'stays_in_week_nights' : Number of weekdays guest stayed\n",
        "* 'adults' : Number of adults\n",
        "* 'children' : Number of children\n",
        "* 'babies' : Number of babies\n",
        "* 'meal' :\n",
        "  * BB : Bed & Breakfast\n",
        "  * HB : only two meals including breakfast meal\n",
        "  * FB : breakfast, lunch, and dinner\n",
        "* 'country' : Country to which guest belongs\n",
        "pande1sachin17:04\n",
        "* 'market_segment' :\n",
        "  * 'Direct' : Whether direct\n",
        "  * 'Corporate' : Whether corporate\n",
        "  * 'Online TA' : Whether through online travel agent\n",
        "  * 'Offline TA/TO' : Whether through offline travel agent/tour operator\n",
        "  * 'Complementary' : Whether complementary\n",
        "  * 'Groups' : Whether groups\n",
        "  * 'Undefined' : If undefined\n",
        "  * 'Aviation' : if aviation\n",
        "* 'distribution_channel' : Details about distribution_channel\n",
        "  * ('Direct', 'Corporate', 'TA/TO', 'Undefined', 'GDS')\n",
        "* 'is_repeated_guest' : 0 or 1 accordingly if it is a repeated guest or not\n",
        "* 'previous_cancellations' : Cancelled in past\n",
        "* 'previous_bookings_not_canceled' : Not cancelled in past\n",
        "* 'reserved_room_type' : Type of reserved room\n",
        "* 'assigned_room_type' : Type of assigned room\n",
        "* 'booking_changes' : How many times changes in bookings were made\n",
        "* 'deposit_type' : Type of payment/deposite\n",
        "* 'days_in_waiting_list' : Number of days in waiting list\n",
        "* 'customer_type' : Type of customer\n",
        "* 'adr' : Average Daily Rate\n",
        "* 'required_car_parking_spaces' : If parking space is required\n",
        "* 'total_of_special_requests' : Number of special requests made by the customer\n",
        "* 'reservation_status' : Whether 'Check-Out', 'Canceled' or 'No-Show'\n",
        "* 'reservation_status_date' : Date of the respective status"
      ],
      "metadata": {
        "id": "SfmKsRygRASv"
      }
    },
    {
      "cell_type": "code",
      "source": [
        "# Checking variables having discrete values representing different categories or groups.\n",
        "print(\"Variables having discrete values representing different categories or groups in dataset:\")\n",
        "print('=='*45,'\\n')\n",
        "count = 0\n",
        "for name_of_column in c_hba_df.columns:\n",
        "  if c_hba_df[name_of_column].dtypes == 'O':\n",
        "    count += 1\n",
        "    print(f\"{count}). {name_of_column}\")\n",
        "print('=='*45,'\\n')\n",
        "print(f\"\\nTotal {count} variables in dataset have discrete values representing different categories or groups in dataset\")\n"
      ],
      "metadata": {
        "id": "EQx12urORQP2"
      },
      "execution_count": null,
      "outputs": []
    },
    {
      "cell_type": "code",
      "source": [
        "# Checking variables having discrete values representing different categories or groups.\n",
        "print(\"Variables having discrete values representing different categories or groups in dataset:\")\n",
        "print('=='*45,'\\n')\n",
        "count = 0\n",
        "for name_of_column in c_hba_df.columns:\n",
        "  if c_hba_df[name_of_column].dtypes == 'O':\n",
        "    count += 1\n",
        "    print(f\"{count}). {name_of_column}\")\n",
        "print('=='*45,'\\n')\n",
        "print(f\"\\nTotal {count} variables in dataset have discrete values representing different categories or groups in dataset\")\n"
      ],
      "metadata": {
        "id": "Wuvt-Xg8RZ7C"
      },
      "execution_count": null,
      "outputs": []
    },
    {
      "cell_type": "markdown",
      "source": [
        "Answer Here"
      ],
      "metadata": {
        "id": "aJV4KIxSnxay"
      }
    },
    {
      "cell_type": "markdown",
      "source": [
        "### Check Unique Values for each variable."
      ],
      "metadata": {
        "id": "u3PMJOP6ngxN"
      }
    },
    {
      "cell_type": "code",
      "source": [
        "# Check Unique Values for each variable.\n",
        "print(\"Unique value for each variable in dataset:\")\n",
        "for name_of_column in c_hba_df.columns:\n",
        "  print(\"==\"*25)\n",
        "  print(f\"{name_of_column}: {c_hba_df[name_of_column].unique()}\")"
      ],
      "metadata": {
        "id": "zms12Yq5n-jE"
      },
      "execution_count": null,
      "outputs": []
    },
    {
      "cell_type": "markdown",
      "source": [
        "## 3. ***Data Wrangling***"
      ],
      "metadata": {
        "id": "dauF4eBmngu3"
      }
    },
    {
      "cell_type": "markdown",
      "source": [
        "Some kind of basic data manipulation and wrangling like removing duplicates, handling null values by either removing them or replacing them with proper substitutes (i.e. mode) and removing irrelevant columns and rows are already done on the dataset.\n",
        "Remaining Data Wrangling we will do in this section"
      ],
      "metadata": {
        "id": "rKB0Z53llJUT"
      }
    },
    {
      "cell_type": "markdown",
      "source": [
        "### Data Wrangling Code"
      ],
      "metadata": {
        "id": "bKJF3rekwFvQ"
      }
    },
    {
      "cell_type": "code",
      "source": [
        "# checking dataset for inappropriate datatypes\n",
        "c_hba_df.info()"
      ],
      "metadata": {
        "id": "wk-9a2fpoLcV"
      },
      "execution_count": null,
      "outputs": []
    },
    {
      "cell_type": "markdown",
      "source": [
        "Converting Datatypes"
      ],
      "metadata": {
        "id": "LfU6iCNrlXrF"
      }
    },
    {
      "cell_type": "code",
      "source": [
        "# Write your code to make your dataset analysis ready.\n",
        "# datatype of columns children and agent is float\n",
        "# so we will have to correct it by typecasting it to proper datatypes\n",
        "\n",
        "c_hba_df['children'] = c_hba_df['children'].astype('int64')\n",
        "\n",
        "# also reservation_status_date contains date related data so it also needs to be properly type casted\n",
        "c_hba_df['reservation_status_date'] = pd.to_datetime(c_hba_df['reservation_status_date'], format = '%Y-%m-%d')\n",
        "\n",
        "# checking datatype of the respective columns after convertion\n",
        "c_hba_df[['children','reservation_status_date']].info()"
      ],
      "metadata": {
        "id": "irKXasajlXNS"
      },
      "execution_count": null,
      "outputs": []
    },
    {
      "cell_type": "code",
      "source": [
        "# substituting canceled or not canceled in the column is_canceled depending on the status of the booking\n",
        "c_hba_df['is_canceled'] = c_hba_df['is_canceled'].apply(lambda x : 'not canceled' if x == 0 else 'canceled')\n",
        "\n",
        "# adding data from columns 'stays_in_weekend_nights', 'stays_in_week_nights' and introducing a new column named as 'total_stays_nights'\n",
        "total_stays = pd.Series(c_hba_df['stays_in_weekend_nights'] + c_hba_df['stays_in_week_nights'])\n",
        "c_hba_df.insert(9, 'total_stays_night', total_stays, True)"
      ],
      "metadata": {
        "id": "v0KTUYs1lhg2"
      },
      "execution_count": null,
      "outputs": []
    },
    {
      "cell_type": "code",
      "source": [
        "# now adding data from the columns 'adults', 'children' and 'babies' to get number of total_guests\n",
        "total = pd.Series(c_hba_df['adults'] + c_hba_df['children'] + c_hba_df['babies'])\n",
        "c_hba_df.insert(13, 'total_guests', total, True)"
      ],
      "metadata": {
        "id": "mEL0ucsblmN9"
      },
      "execution_count": null,
      "outputs": []
    },
    {
      "cell_type": "code",
      "source": [
        "# Number of rows and columns before applying filter\n",
        "print(f\"Number of rows in modified dataset is : {c_hba_df.shape[0]}\")\n",
        "print(f\"Number of columns in modified dataset is : {c_hba_df.shape[1]}\")"
      ],
      "metadata": {
        "id": "5RfCfHRdlpVP"
      },
      "execution_count": null,
      "outputs": []
    },
    {
      "cell_type": "code",
      "source": [
        "c_hba_df = c_hba_df[c_hba_df['total_guests'] != 0]"
      ],
      "metadata": {
        "id": "Q-RrcFQrlreB"
      },
      "execution_count": null,
      "outputs": []
    },
    {
      "cell_type": "code",
      "source": [
        "# Number of rows and columns before applying filter\n",
        "print(f\"Number of rows in modified dataset is : {c_hba_df.shape[0]}\")\n",
        "print(f\"Number of columns in modified dataset is : {c_hba_df.shape[1]}\")"
      ],
      "metadata": {
        "id": "dphxMa4Flt46"
      },
      "execution_count": null,
      "outputs": []
    },
    {
      "cell_type": "code",
      "source": [
        "c_hba_df.info()"
      ],
      "metadata": {
        "id": "tHWL5NU4lwBI"
      },
      "execution_count": null,
      "outputs": []
    },
    {
      "cell_type": "code",
      "source": [
        "# Identifying the outliers to handle them\n",
        "column_name = c_hba_df['adr']\n",
        "plt.figure(figsize = (20, 5))\n",
        "plt.title('Distribution of Average Daily Rate')\n",
        "sns.boxplot(x = column_name)\n",
        "plt.show()"
      ],
      "metadata": {
        "id": "utCP_O-7uYU7"
      },
      "execution_count": null,
      "outputs": []
    },
    {
      "cell_type": "code",
      "source": [
        "# sorting datframe in ascending values by 'adr' column\n",
        "c_hba_df['adr'].sort_values()"
      ],
      "metadata": {
        "id": "OV7gvGnQua1Y"
      },
      "execution_count": null,
      "outputs": []
    },
    {
      "cell_type": "code",
      "source": [
        "# we will first row and last row of the above sorted data are outlier as\n",
        "# first row contains a negative and last row contains a very high value\n",
        "# which seem to be some error in data\n",
        "c_hba_df.drop([14969, 48515], axis=0, inplace=True)"
      ],
      "metadata": {
        "id": "IYRiFjmmueAI"
      },
      "execution_count": null,
      "outputs": []
    },
    {
      "cell_type": "code",
      "source": [
        "print(c_hba_df.shape)\n",
        "# Number of rows and columns before applying filter\n",
        "print(f\"Number of rows in modified dataset is : {c_hba_df.shape[0]}\")\n",
        "print(f\"Number of columns in modified dataset is : {c_hba_df.shape[1]}\")"
      ],
      "metadata": {
        "id": "UHA-k9dAu66X"
      },
      "execution_count": null,
      "outputs": []
    },
    {
      "cell_type": "markdown",
      "source": [],
      "metadata": {
        "id": "d5jkJmHgJ-F_"
      }
    },
    {
      "cell_type": "markdown",
      "source": [
        "### What all manipulations have you done and insights you found?"
      ],
      "metadata": {
        "id": "MSa1f5Uengrz"
      }
    },
    {
      "cell_type": "markdown",
      "source": [],
      "metadata": {
        "id": "kZKDk5kQLK-_"
      }
    },
    {
      "cell_type": "markdown",
      "source": [
        "#### 1) First of all to keep the original dataFrame intact we created a copy of the original dataFrame by using \".copy()\" and performed all manipulation and wrangling on that copy.\n",
        "#### 2) By using drop_duplicate method we eliminated duplicate value.\n",
        "#### 3) Handled missing or null value in following ways :     \n",
        "> #### * 'company' column has 93.983% missing or null values so we removed the column from dataset.\n",
        "> #### * And columns \"agent\",\"country\" and \"children\" have 13.951 %, 0.517 % and 0.005% so we substituted mode i.e most frequently appearing value in respective rows of the above mentioned column.\n",
        "\n",
        "#### 4) To correctly performing manipulation and visualisation tasks on the data it should have proper datatypes i.e integer , float ,string, datetime ,etc. So we converted data in \"children\" ,\"agent\" and \"reservation_status_date\" columns to integer at datetime datatype.\n",
        "\n",
        "#### 5)Data in column 'is_cancelled' is sunstituted with \"not canceled\" or \"canceled\" considering the older values in the column i.e 0 or 1.\n",
        "\n",
        "#### 6) Added a column 'total_stays_night'in the dataFrame and the data in that column is addition of dta from two columns 'stays_in_weekend_night','stays_in_week_nights' for each respective rows.\n",
        "\n",
        "#### 7) For calculate total no of guests we added data frame from the columns 'adults','children' and 'babies' and stored in a new column name 'total_guests'.\n",
        "\n",
        "#### 8) we crated a new column \"reserved_room_assigned\" and updated it with the status 'yes' or 'no' depending on the value in the columns \"reserved_room_type\" and \"assigned_room_type' whether they matches or not for each row.\n",
        "\n",
        "#### 9) After updating data regarding total number of guests we filtered out the row where total number of guest is zero i.e. 0 and eliminated such rows from the dataframe.\n",
        "\n",
        "#### 10) We identified outliers from the column\"adr\"and eliminated them..\n",
        "\n"
      ],
      "metadata": {
        "id": "yHfkd1HlSReZ"
      }
    },
    {
      "cell_type": "markdown",
      "source": [
        "Answer Here."
      ],
      "metadata": {
        "id": "LbyXE7I1olp8"
      }
    },
    {
      "cell_type": "markdown",
      "source": [
        "## ***4. Data Vizualization, Storytelling & Experimenting with charts : Understand the relationships between variables***"
      ],
      "metadata": {
        "id": "GF8Ens_Soomf"
      }
    },
    {
      "cell_type": "code",
      "source": [
        "c_hba_df.head(1)"
      ],
      "metadata": {
        "id": "dhp43l4O6Z_P"
      },
      "execution_count": null,
      "outputs": []
    },
    {
      "cell_type": "markdown",
      "source": [
        "#### Chart - 1"
      ],
      "metadata": {
        "id": "0wOQAZs5pc--"
      }
    },
    {
      "cell_type": "code",
      "source": [
        "# Chart - 1 visualization code\n",
        "# To represent the distribution of the hotels if resort hotel or city hotel\n",
        "hotel_count = c_hba_df['hotel'].value_counts().reset_index()\n",
        "value_sum = sum(hotel_count['hotel'])\n",
        "hotel_count['percent'] = round(hotel_count['hotel'].apply(lambda x : (x / value_sum) * 100), 2)\n",
        "print(hotel_count)\n",
        "\n",
        "plt.figure(figsize=(3, 4))\n",
        "plt.title(\"Distribution of hotels\")\n",
        "sns.set_style(\"darkgrid\")\n",
        "sns.barplot(x = 'index', y = 'hotel', data = hotel_count)\n",
        "for i, percent in enumerate(hotel_count['percent']):\n",
        "    plt.text(i, percent, str(percent) + ' %', ha='center', va='bottom')\n",
        "plt.xlabel('Type of hotel')\n",
        "plt.xticks(rotation = 0)\n",
        "plt.ylabel('Number of hotels')\n",
        "plt.show()"
      ],
      "metadata": {
        "id": "MAHHPS1BJsBJ"
      },
      "execution_count": null,
      "outputs": []
    },
    {
      "cell_type": "markdown",
      "source": [
        "##### 1. Why did you pick the specific chart?"
      ],
      "metadata": {
        "id": "K5QZ13OEpz2H"
      }
    },
    {
      "cell_type": "markdown",
      "source": [
        ".As the data represented by bar graphs is very easy to understand, thus we have bar graph to display the distribution of hotels."
      ],
      "metadata": {
        "id": "XESiWehPqBRc"
      }
    },
    {
      "cell_type": "markdown",
      "source": [
        "##### 2. What is/are the insight(s) found from the chart?"
      ],
      "metadata": {
        "id": "lQ7QKXXCp7Bj"
      }
    },
    {
      "cell_type": "markdown",
      "source": [
        "From the above visualisation we found that out of total bookings approximately 61 % were in 'City Hotel' and 39 % bookings were in 'Resort Hotel'. So we can say that city hotel booked more often as compared to resort hotels."
      ],
      "metadata": {
        "id": "C_j1G7yiqdRP"
      }
    },
    {
      "cell_type": "markdown",
      "source": [
        "##### 3. Will the gained insights help creating a positive business impact?\n",
        "Are there any insights that lead to negative growth? Justify with specific reason."
      ],
      "metadata": {
        "id": "448CDAPjqfQr"
      }
    },
    {
      "cell_type": "markdown",
      "source": [
        "Yes, insights gained shows that demand for city hotel is high whereas demand for resort hotel is low. Considering above results resort hotel owners can do some changes in their pricing strategy, also they can start attractive offers with free pick up and drop service sp as to attract customers. They can also target vacation season with some attractive offers to attract the customers"
      ],
      "metadata": {
        "id": "3cspy4FjqxJW"
      }
    },
    {
      "cell_type": "markdown",
      "source": [
        "#### Chart - 2"
      ],
      "metadata": {
        "id": "KSlN3yHqYklG"
      }
    },
    {
      "cell_type": "code",
      "source": [
        "# Chart - 2 visualization code\n",
        "# Booking status distribution\n",
        "canceled_booking_count = c_hba_df['is_canceled'].value_counts().reset_index()\n",
        "value_sum = sum(canceled_booking_count['is_canceled'])\n",
        "canceled_booking_count['percent'] = round(canceled_booking_count['is_canceled'].apply(lambda x : (x / value_sum) * 100), 2)\n",
        "print(canceled_booking_count)\n",
        "\n",
        "plt.figure(figsize=(3, 4))\n",
        "plt.title(\"Checking booking status distribution\")\n",
        "sns.set_style(\"whitegrid\")\n",
        "sns.barplot(x = 'index', y = 'is_canceled', data = canceled_booking_count)\n",
        "for i, percent in enumerate(canceled_booking_count['percent']):\n",
        "    plt.text(i, percent, str(percent) + ' %', ha='center', va='bottom')\n",
        "plt.xlabel('Booking status')\n",
        "plt.xticks(rotation = 0)\n",
        "plt.ylabel('Bookings')\n",
        "plt.show()"
      ],
      "metadata": {
        "id": "R4YgtaqtYklH"
      },
      "execution_count": null,
      "outputs": []
    },
    {
      "cell_type": "markdown",
      "source": [
        "##### 1. Why did you pick the specific chart?"
      ],
      "metadata": {
        "id": "t6dVpIINYklI"
      }
    },
    {
      "cell_type": "markdown",
      "source": [
        "Answer Here."
      ],
      "metadata": {
        "id": "5aaW0BYyYklI"
      }
    },
    {
      "cell_type": "markdown",
      "source": [
        "##### 2. What is/are the insight(s) found from the chart?"
      ],
      "metadata": {
        "id": "ijmpgYnKYklI"
      }
    },
    {
      "cell_type": "markdown",
      "source": [
        "Answer Here"
      ],
      "metadata": {
        "id": "PSx9atu2YklI"
      }
    },
    {
      "cell_type": "markdown",
      "source": [
        "##### 3. Will the gained insights help creating a positive business impact?\n",
        "Are there any insights that lead to negative growth? Justify with specific reason."
      ],
      "metadata": {
        "id": "-JiQyfWJYklI"
      }
    },
    {
      "cell_type": "markdown",
      "source": [
        "Answer Here"
      ],
      "metadata": {
        "id": "BcBbebzrYklV"
      }
    },
    {
      "cell_type": "code",
      "source": [
        "c_hba_df.info()"
      ],
      "metadata": {
        "id": "LxzFrd-v60Ow"
      },
      "execution_count": null,
      "outputs": []
    },
    {
      "cell_type": "markdown",
      "source": [
        "#### Chart - 3"
      ],
      "metadata": {
        "id": "EM7whBJCYoAo"
      }
    },
    {
      "cell_type": "code",
      "source": [
        "# Chart - 3 visualization code\n",
        "# Checking distribution of arrival date year\n",
        "arrival_year_count = c_hba_df['arrival_date_year'].value_counts().reset_index()\n",
        "value_sum = sum(arrival_year_count['arrival_date_year'])\n",
        "arrival_year_count['percent'] = round(arrival_year_count['arrival_date_year'].apply(lambda x : (x / value_sum) * 100), 2)\n",
        "arrival_year_count.sort_values(by = 'index', inplace = True)\n",
        "print(arrival_year_count)\n",
        "\n",
        "plt.figure(figsize=(4, 4))\n",
        "plt.title(\"Distribution of arrival year\")\n",
        "sns.set_style(\"whitegrid\")\n",
        "sns.barplot(x = 'index', y = 'arrival_date_year', data = arrival_year_count)\n",
        "for i, percent in enumerate(arrival_year_count['percent']):\n",
        "    plt.text(i, percent, str(percent) + ' %', ha='center', va='bottom')\n",
        "plt.xlabel('Arrival year')\n",
        "plt.xticks(rotation = 0)\n",
        "plt.ylabel('Bookings')\n",
        "plt.show()"
      ],
      "metadata": {
        "id": "t6GMdE67YoAp"
      },
      "execution_count": null,
      "outputs": []
    },
    {
      "cell_type": "markdown",
      "source": [
        "##### 1. Why did you pick the specific chart?"
      ],
      "metadata": {
        "id": "fge-S5ZAYoAp"
      }
    },
    {
      "cell_type": "markdown",
      "source": [
        "Answer Here."
      ],
      "metadata": {
        "id": "5dBItgRVYoAp"
      }
    },
    {
      "cell_type": "markdown",
      "source": [
        "##### 2. What is/are the insight(s) found from the chart?"
      ],
      "metadata": {
        "id": "85gYPyotYoAp"
      }
    },
    {
      "cell_type": "markdown",
      "source": [
        "Answer Here"
      ],
      "metadata": {
        "id": "4jstXR6OYoAp"
      }
    },
    {
      "cell_type": "markdown",
      "source": [
        "##### 3. Will the gained insights help creating a positive business impact?\n",
        "Are there any insights that lead to negative growth? Justify with specific reason."
      ],
      "metadata": {
        "id": "RoGjAbkUYoAp"
      }
    },
    {
      "cell_type": "markdown",
      "source": [
        "Answer Here"
      ],
      "metadata": {
        "id": "zfJ8IqMcYoAp"
      }
    },
    {
      "cell_type": "markdown",
      "source": [
        "#### Chart - 4"
      ],
      "metadata": {
        "id": "4Of9eVA-YrdM"
      }
    },
    {
      "cell_type": "code",
      "source": [
        "# Chart - 4 visualization code\n",
        "# Distribution of arrival date month\n",
        "arrival_month_count = c_hba_df['arrival_date_month'].value_counts().reset_index()\n",
        "value_sum = sum(arrival_month_count['arrival_date_month'])\n",
        "arrival_month_count['percent'] = round(arrival_month_count['arrival_date_month'].apply(lambda x : (x / value_sum) * 100), 2)\n",
        "print(arrival_month_count)\n",
        "\n",
        "plt.figure(figsize = (14, 5))\n",
        "plt.title(\"Arrival month distribution\")\n",
        "sns.set_style(\"whitegrid\")\n",
        "sns.barplot(x = 'index', y = 'arrival_date_month', data = arrival_month_count)\n",
        "for i, percent in enumerate(arrival_month_count['percent']):\n",
        "    plt.text(i, percent, str(percent) + ' %', ha='center', va='bottom')\n",
        "plt.xlabel('Arrival month')\n",
        "plt.xticks(rotation = 0)\n",
        "plt.ylabel('Bookings')\n",
        "plt.show()"
      ],
      "metadata": {
        "id": "irlUoxc8YrdO"
      },
      "execution_count": null,
      "outputs": []
    },
    {
      "cell_type": "markdown",
      "source": [
        "##### 1. Why did you pick the specific chart?"
      ],
      "metadata": {
        "id": "iky9q4vBYrdO"
      }
    },
    {
      "cell_type": "markdown",
      "source": [
        "Answer Here."
      ],
      "metadata": {
        "id": "aJRCwT6DYrdO"
      }
    },
    {
      "cell_type": "markdown",
      "source": [
        "##### 2. What is/are the insight(s) found from the chart?"
      ],
      "metadata": {
        "id": "F6T5p64dYrdO"
      }
    },
    {
      "cell_type": "markdown",
      "source": [
        "Answer Here"
      ],
      "metadata": {
        "id": "Xx8WAJvtYrdO"
      }
    },
    {
      "cell_type": "markdown",
      "source": [
        "##### 3. Will the gained insights help creating a positive business impact?\n",
        "Are there any insights that lead to negative growth? Justify with specific reason."
      ],
      "metadata": {
        "id": "y-Ehk30pYrdP"
      }
    },
    {
      "cell_type": "markdown",
      "source": [
        "Answer Here"
      ],
      "metadata": {
        "id": "jLNxxz7MYrdP"
      }
    },
    {
      "cell_type": "markdown",
      "source": [
        "#### Chart - 5"
      ],
      "metadata": {
        "id": "bamQiAODYuh1"
      }
    },
    {
      "cell_type": "code",
      "source": [
        "# Chart - 5 visualization code\n",
        "# Market segment distribution\n",
        "market_segment_count = c_hba_df['market_segment'].value_counts().reset_index()\n",
        "value_sum = sum(market_segment_count['market_segment'])\n",
        "market_segment_count['percent'] = round(market_segment_count['market_segment'].apply(lambda x : (x / value_sum) * 100), 2)\n",
        "print(market_segment_count)\n",
        "\n",
        "plt.figure(figsize = (10, 5))\n",
        "plt.title(\"market segment distribution\")\n",
        "sns.set_style(\"whitegrid\")\n",
        "sns.barplot(x = 'index', y = 'market_segment', data = market_segment_count)\n",
        "for i, percent in enumerate(market_segment_count['percent']):\n",
        "    plt.text(i, percent, str(percent) + ' %', ha='center', va='bottom')\n",
        "plt.xlabel('market segment')\n",
        "plt.xticks(rotation = 0)\n",
        "plt.ylabel('Bookings')\n",
        "plt.show()"
      ],
      "metadata": {
        "id": "TIJwrbroYuh3"
      },
      "execution_count": null,
      "outputs": []
    },
    {
      "cell_type": "markdown",
      "source": [
        "##### 1. Why did you pick the specific chart?"
      ],
      "metadata": {
        "id": "QHF8YVU7Yuh3"
      }
    },
    {
      "cell_type": "markdown",
      "source": [
        "Answer Here."
      ],
      "metadata": {
        "id": "dcxuIMRPYuh3"
      }
    },
    {
      "cell_type": "markdown",
      "source": [
        "##### 2. What is/are the insight(s) found from the chart?"
      ],
      "metadata": {
        "id": "GwzvFGzlYuh3"
      }
    },
    {
      "cell_type": "markdown",
      "source": [
        "Answer Here"
      ],
      "metadata": {
        "id": "uyqkiB8YYuh3"
      }
    },
    {
      "cell_type": "markdown",
      "source": [
        "##### 3. Will the gained insights help creating a positive business impact?\n",
        "Are there any insights that lead to negative growth? Justify with specific reason."
      ],
      "metadata": {
        "id": "qYpmQ266Yuh3"
      }
    },
    {
      "cell_type": "markdown",
      "source": [
        "Answer Here"
      ],
      "metadata": {
        "id": "_WtzZ_hCYuh4"
      }
    },
    {
      "cell_type": "markdown",
      "source": [
        "#### Chart - 6"
      ],
      "metadata": {
        "id": "OH-pJp9IphqM"
      }
    },
    {
      "cell_type": "code",
      "source": [
        "# Chart - 6 visualization code\n",
        "# \"distribution_channel\" distribution\n",
        "\n",
        "distribution_channel_count = c_hba_df['distribution_channel'].value_counts().reset_index()\n",
        "value_sum = sum(distribution_channel_count['distribution_channel'])\n",
        "distribution_channel_count['percent'] = round(distribution_channel_count['distribution_channel'].apply(lambda x : (x / value_sum) * 100), 2)\n",
        "print(distribution_channel_count)\n",
        "\n",
        "plt.figure(figsize = (8, 5))\n",
        "plt.title(\"'distribution_channel' distribution\")\n",
        "sns.set_style(\"whitegrid\")\n",
        "sns.barplot(x = 'index', y = 'distribution_channel', data = distribution_channel_count)\n",
        "for i, percent in enumerate(distribution_channel_count['percent']):\n",
        "    plt.text(i, percent, str(percent) + ' %', ha='center', va='bottom')\n",
        "plt.xlabel('distribution-channel')\n",
        "plt.xticks(rotation = 0)\n",
        "plt.ylabel('Bookings')\n",
        "plt.show()"
      ],
      "metadata": {
        "id": "kuRf4wtuphqN"
      },
      "execution_count": null,
      "outputs": []
    },
    {
      "cell_type": "markdown",
      "source": [
        "##### 1. Why did you pick the specific chart?"
      ],
      "metadata": {
        "id": "bbFf2-_FphqN"
      }
    },
    {
      "cell_type": "markdown",
      "source": [
        "Answer Here."
      ],
      "metadata": {
        "id": "loh7H2nzphqN"
      }
    },
    {
      "cell_type": "markdown",
      "source": [
        "##### 2. What is/are the insight(s) found from the chart?"
      ],
      "metadata": {
        "id": "_ouA3fa0phqN"
      }
    },
    {
      "cell_type": "markdown",
      "source": [
        "Answer Here"
      ],
      "metadata": {
        "id": "VECbqPI7phqN"
      }
    },
    {
      "cell_type": "markdown",
      "source": [
        "##### 3. Will the gained insights help creating a positive business impact?\n",
        "Are there any insights that lead to negative growth? Justify with specific reason."
      ],
      "metadata": {
        "id": "Seke61FWphqN"
      }
    },
    {
      "cell_type": "markdown",
      "source": [
        "Answer Here"
      ],
      "metadata": {
        "id": "DW4_bGpfphqN"
      }
    },
    {
      "cell_type": "markdown",
      "source": [
        "#### Chart - 7"
      ],
      "metadata": {
        "id": "PIIx-8_IphqN"
      }
    },
    {
      "cell_type": "code",
      "source": [
        "# Chart - 7 visualization code\n",
        "# reserved_room_assigned 'yes' or 'no'\n",
        "reserved_room_assigned_count = c_hba_df['reserved_room_assigned'].value_counts().reset_index()\n",
        "\n",
        "value_sum = sum(reserved_room_assigned_count['reserved_room_assigned'])\n",
        "reserved_room_assigned_count['percent'] = round(reserved_room_assigned_count['reserved_room_assigned'].apply(lambda x : (x / value_sum) * 100), 2)\n",
        "print(reserved_room_assigned_count)\n",
        "\n",
        "plt.figure(figsize = (3, 4))\n",
        "plt.title(\"reserved_room_assigned 'yes' or 'no'\")\n",
        "sns.set_style(\"whitegrid\")\n",
        "sns.barplot(x = 'index', y = 'reserved_room_assigned', data = reserved_room_assigned_count)\n",
        "for i, percent in enumerate(reserved_room_assigned_count['percent']):\n",
        "    plt.text(i, percent, str(percent) + ' %', ha='center', va='bottom')\n",
        "plt.xlabel('reserved_room_assigned status')\n",
        "plt.xticks(rotation = 0)\n",
        "plt.ylabel('Bookings')\n",
        "plt.show()"
      ],
      "metadata": {
        "id": "lqAIGUfyphqO"
      },
      "execution_count": null,
      "outputs": []
    },
    {
      "cell_type": "markdown",
      "source": [
        "##### 1. Why did you pick the specific chart?"
      ],
      "metadata": {
        "id": "t27r6nlMphqO"
      }
    },
    {
      "cell_type": "markdown",
      "source": [
        "Answer Here."
      ],
      "metadata": {
        "id": "iv6ro40sphqO"
      }
    },
    {
      "cell_type": "markdown",
      "source": [
        "##### 2. What is/are the insight(s) found from the chart?"
      ],
      "metadata": {
        "id": "r2jJGEOYphqO"
      }
    },
    {
      "cell_type": "markdown",
      "source": [
        "Answer Here"
      ],
      "metadata": {
        "id": "Po6ZPi4hphqO"
      }
    },
    {
      "cell_type": "markdown",
      "source": [
        "##### 3. Will the gained insights help creating a positive business impact?\n",
        "Are there any insights that lead to negative growth? Justify with specific reason."
      ],
      "metadata": {
        "id": "b0JNsNcRphqO"
      }
    },
    {
      "cell_type": "markdown",
      "source": [
        "Answer Here"
      ],
      "metadata": {
        "id": "xvSq8iUTphqO"
      }
    },
    {
      "cell_type": "markdown",
      "source": [
        "#### Chart - 8"
      ],
      "metadata": {
        "id": "BZR9WyysphqO"
      }
    },
    {
      "cell_type": "code",
      "source": [
        "# Chart - 8 visualization code\n",
        "# Distribution of bookings by agent (Top 10)\n",
        "\n",
        "agent_count = c_hba_df['agent'].value_counts().reset_index()\n",
        "agent_count = agent_count.sort_values(by = 'agent', ascending = False)\n",
        "agent_count = agent_count.head(10)\n",
        "\n",
        "value_sum = sum(agent_count['agent'])\n",
        "agent_count['percent'] = round(agent_count['agent'].apply(lambda x : (x / value_sum) * 100), 2)\n",
        "print(agent_count)\n",
        "color_list = ['#1f77b4', '#ff7f0e', '#2ca02c', '#d62728', '#9467bd',\n",
        "              '#FFFF00', '#e377c2', '#7f7f7f', '#bcbd22', '#17becf']\n",
        "agent_count.plot(x = 'index', y = 'agent', kind = \"bar\", figsize = (17, 5), title = 'Top 10 agents by number of bookings', color = color_list, legend = False)\n",
        "for i, percent in enumerate(agent_count['percent']):\n",
        "    plt.text(i, percent, str(percent) + ' %', ha='center', va='bottom')\n",
        "plt.xlabel('Agent ID')\n",
        "plt.xticks(rotation = 0)\n",
        "plt.ylabel('Bookings')\n",
        "plt.show()"
      ],
      "metadata": {
        "id": "TdPTWpAVphqO"
      },
      "execution_count": null,
      "outputs": []
    },
    {
      "cell_type": "markdown",
      "source": [
        "##### 1. Why did you pick the specific chart?"
      ],
      "metadata": {
        "id": "jj7wYXLtphqO"
      }
    },
    {
      "cell_type": "markdown",
      "source": [
        "Answer Here."
      ],
      "metadata": {
        "id": "Ob8u6rCTphqO"
      }
    },
    {
      "cell_type": "markdown",
      "source": [
        "##### 2. What is/are the insight(s) found from the chart?"
      ],
      "metadata": {
        "id": "eZrbJ2SmphqO"
      }
    },
    {
      "cell_type": "markdown",
      "source": [
        "Answer Here"
      ],
      "metadata": {
        "id": "mZtgC_hjphqO"
      }
    },
    {
      "cell_type": "markdown",
      "source": [
        "##### 3. Will the gained insights help creating a positive business impact?\n",
        "Are there any insights that lead to negative growth? Justify with specific reason."
      ],
      "metadata": {
        "id": "rFu4xreNphqO"
      }
    },
    {
      "cell_type": "markdown",
      "source": [
        "Answer Here"
      ],
      "metadata": {
        "id": "ey_0qi68phqO"
      }
    },
    {
      "cell_type": "markdown",
      "source": [
        "#### Chart - 9"
      ],
      "metadata": {
        "id": "YJ55k-q6phqO"
      }
    },
    {
      "cell_type": "code",
      "source": [
        "# Chart - 9 visualization code\n",
        "is_canceled_df = c_hba_df.groupby('is_canceled')['reserved_room_assigned'].value_counts().unstack()\n",
        "print(is_canceled_df)\n",
        "\n",
        "is_canceled_df.plot(kind = \"bar\")\n",
        "plt.title(\"is_canceled v/s reserved_room_assigned\")\n",
        "plt.xlabel('Cancelation status')\n",
        "plt.ylabel('Bookings')\n",
        "plt.xticks(rotation = 0)\n",
        "plt.show()"
      ],
      "metadata": {
        "id": "B2aS4O1ophqO"
      },
      "execution_count": null,
      "outputs": []
    },
    {
      "cell_type": "markdown",
      "source": [
        "##### 1. Why did you pick the specific chart?"
      ],
      "metadata": {
        "id": "gCFgpxoyphqP"
      }
    },
    {
      "cell_type": "markdown",
      "source": [
        "Answer Here."
      ],
      "metadata": {
        "id": "TVxDimi2phqP"
      }
    },
    {
      "cell_type": "markdown",
      "source": [
        "##### 2. What is/are the insight(s) found from the chart?"
      ],
      "metadata": {
        "id": "OVtJsKN_phqQ"
      }
    },
    {
      "cell_type": "markdown",
      "source": [
        "Answer Here"
      ],
      "metadata": {
        "id": "ngGi97qjphqQ"
      }
    },
    {
      "cell_type": "markdown",
      "source": [
        "##### 3. Will the gained insights help creating a positive business impact?\n",
        "Are there any insights that lead to negative growth? Justify with specific reason."
      ],
      "metadata": {
        "id": "lssrdh5qphqQ"
      }
    },
    {
      "cell_type": "markdown",
      "source": [
        "Answer Here"
      ],
      "metadata": {
        "id": "tBpY5ekJphqQ"
      }
    },
    {
      "cell_type": "markdown",
      "source": [
        "#### Chart - 10"
      ],
      "metadata": {
        "id": "U2RJ9gkRphqQ"
      }
    },
    {
      "cell_type": "code",
      "source": [
        "# Chart - 10 visualization code\n",
        "country_df = c_hba_df['country'].value_counts()\n",
        "country_df = country_df.head(10)\n",
        "print(country_df)\n",
        "\n",
        "plt.title('Top 10 countries w.r.t. number of bookings')\n",
        "sns.barplot(x = country_df.index, y = country_df.values)\n",
        "plt.xlabel('Countries')\n",
        "plt.ylabel('Number of bookings')\n",
        "plt.show()"
      ],
      "metadata": {
        "id": "GM7a4YP4phqQ"
      },
      "execution_count": null,
      "outputs": []
    },
    {
      "cell_type": "markdown",
      "source": [
        "##### 1. Why did you pick the specific chart?"
      ],
      "metadata": {
        "id": "1M8mcRywphqQ"
      }
    },
    {
      "cell_type": "markdown",
      "source": [
        "Answer Here."
      ],
      "metadata": {
        "id": "8agQvks0phqQ"
      }
    },
    {
      "cell_type": "markdown",
      "source": [
        "##### 2. What is/are the insight(s) found from the chart?"
      ],
      "metadata": {
        "id": "tgIPom80phqQ"
      }
    },
    {
      "cell_type": "markdown",
      "source": [
        "Answer Here"
      ],
      "metadata": {
        "id": "Qp13pnNzphqQ"
      }
    },
    {
      "cell_type": "markdown",
      "source": [
        "##### 3. Will the gained insights help creating a positive business impact?\n",
        "Are there any insights that lead to negative growth? Justify with specific reason."
      ],
      "metadata": {
        "id": "JMzcOPDDphqR"
      }
    },
    {
      "cell_type": "markdown",
      "source": [
        "Answer Here"
      ],
      "metadata": {
        "id": "R4Ka1PC2phqR"
      }
    },
    {
      "cell_type": "markdown",
      "source": [
        "#### Chart - 11"
      ],
      "metadata": {
        "id": "x-EpHcCOp1ci"
      }
    },
    {
      "cell_type": "code",
      "source": [
        "# Chart - 11 visualization code"
      ],
      "metadata": {
        "id": "mAQTIvtqp1cj"
      },
      "execution_count": null,
      "outputs": []
    },
    {
      "cell_type": "markdown",
      "source": [
        "##### 1. Why did you pick the specific chart?"
      ],
      "metadata": {
        "id": "X_VqEhTip1ck"
      }
    },
    {
      "cell_type": "markdown",
      "source": [
        "Answer Here."
      ],
      "metadata": {
        "id": "-vsMzt_np1ck"
      }
    },
    {
      "cell_type": "markdown",
      "source": [
        "##### 2. What is/are the insight(s) found from the chart?"
      ],
      "metadata": {
        "id": "8zGJKyg5p1ck"
      }
    },
    {
      "cell_type": "markdown",
      "source": [
        "Answer Here"
      ],
      "metadata": {
        "id": "ZYdMsrqVp1ck"
      }
    },
    {
      "cell_type": "markdown",
      "source": [
        "##### 3. Will the gained insights help creating a positive business impact?\n",
        "Are there any insights that lead to negative growth? Justify with specific reason."
      ],
      "metadata": {
        "id": "PVzmfK_Ep1ck"
      }
    },
    {
      "cell_type": "markdown",
      "source": [
        "Answer Here"
      ],
      "metadata": {
        "id": "druuKYZpp1ck"
      }
    },
    {
      "cell_type": "markdown",
      "source": [
        "#### Chart - 12"
      ],
      "metadata": {
        "id": "n3dbpmDWp1ck"
      }
    },
    {
      "cell_type": "code",
      "source": [
        "# Chart - 12 visualization code"
      ],
      "metadata": {
        "id": "bwevp1tKp1ck"
      },
      "execution_count": null,
      "outputs": []
    },
    {
      "cell_type": "markdown",
      "source": [
        "##### 1. Why did you pick the specific chart?"
      ],
      "metadata": {
        "id": "ylSl6qgtp1ck"
      }
    },
    {
      "cell_type": "markdown",
      "source": [
        "Answer Here."
      ],
      "metadata": {
        "id": "m2xqNkiQp1ck"
      }
    },
    {
      "cell_type": "markdown",
      "source": [
        "##### 2. What is/are the insight(s) found from the chart?"
      ],
      "metadata": {
        "id": "ZWILFDl5p1ck"
      }
    },
    {
      "cell_type": "markdown",
      "source": [
        "Answer Here"
      ],
      "metadata": {
        "id": "x-lUsV2mp1ck"
      }
    },
    {
      "cell_type": "markdown",
      "source": [
        "##### 3. Will the gained insights help creating a positive business impact?\n",
        "Are there any insights that lead to negative growth? Justify with specific reason."
      ],
      "metadata": {
        "id": "M7G43BXep1ck"
      }
    },
    {
      "cell_type": "markdown",
      "source": [
        "Answer Here"
      ],
      "metadata": {
        "id": "5wwDJXsLp1cl"
      }
    },
    {
      "cell_type": "markdown",
      "source": [
        "#### Chart - 13"
      ],
      "metadata": {
        "id": "Ag9LCva-p1cl"
      }
    },
    {
      "cell_type": "code",
      "source": [
        "# Chart - 13 visualization code"
      ],
      "metadata": {
        "id": "EUfxeq9-p1cl"
      },
      "execution_count": null,
      "outputs": []
    },
    {
      "cell_type": "markdown",
      "source": [
        "##### 1. Why did you pick the specific chart?"
      ],
      "metadata": {
        "id": "E6MkPsBcp1cl"
      }
    },
    {
      "cell_type": "markdown",
      "source": [
        "Answer Here."
      ],
      "metadata": {
        "id": "V22bRsFWp1cl"
      }
    },
    {
      "cell_type": "markdown",
      "source": [
        "##### 2. What is/are the insight(s) found from the chart?"
      ],
      "metadata": {
        "id": "2cELzS2fp1cl"
      }
    },
    {
      "cell_type": "markdown",
      "source": [
        "Answer Here"
      ],
      "metadata": {
        "id": "ozQPc2_Ip1cl"
      }
    },
    {
      "cell_type": "markdown",
      "source": [
        "##### 3. Will the gained insights help creating a positive business impact?\n",
        "Are there any insights that lead to negative growth? Justify with specific reason."
      ],
      "metadata": {
        "id": "3MPXvC8up1cl"
      }
    },
    {
      "cell_type": "markdown",
      "source": [
        "Answer Here"
      ],
      "metadata": {
        "id": "GL8l1tdLp1cl"
      }
    },
    {
      "cell_type": "markdown",
      "source": [
        "#### Chart - 14 - Correlation Heatmap"
      ],
      "metadata": {
        "id": "NC_X3p0fY2L0"
      }
    },
    {
      "cell_type": "code",
      "source": [
        "# Correlation Heatmap visualization code\n",
        "plt.figure(figsize = (18, 7))\n",
        "plt.title(\"Correlation heatmap showing relation between different variables\")\n",
        "sns.heatmap(c_hba_df.corr(), cmap = 'coolwarm', annot = True)\n",
        "plt.show()"
      ],
      "metadata": {
        "id": "xyC9zolEZNRQ"
      },
      "execution_count": null,
      "outputs": []
    },
    {
      "cell_type": "markdown",
      "source": [
        "##### 1. Why did you pick the specific chart?"
      ],
      "metadata": {
        "id": "UV0SzAkaZNRQ"
      }
    },
    {
      "cell_type": "markdown",
      "source": [
        "Answer Here."
      ],
      "metadata": {
        "id": "DVPuT8LYZNRQ"
      }
    },
    {
      "cell_type": "markdown",
      "source": [
        "##### 2. What is/are the insight(s) found from the chart?"
      ],
      "metadata": {
        "id": "YPEH6qLeZNRQ"
      }
    },
    {
      "cell_type": "markdown",
      "source": [
        "Answer Here"
      ],
      "metadata": {
        "id": "bfSqtnDqZNRR"
      }
    },
    {
      "cell_type": "markdown",
      "source": [
        "#### Chart - 15 - Pair Plot"
      ],
      "metadata": {
        "id": "q29F0dvdveiT"
      }
    },
    {
      "cell_type": "code",
      "source": [
        "## Pair Plot visualization code\n",
        "df_pair_plot = c_hba_df[['lead_time', 'arrival_date_year', 'arrival_date_week_number', 'arrival_date_day_of_month',\n",
        "                         'total_stays_night', 'total_guests', 'days_in_waiting_list', 'adr']]\n",
        "plt.figure(figsize=(10,8))\n",
        "pair_plot = sns.pairplot(df_pair_plot)\n",
        "plt.show()"
      ],
      "metadata": {
        "id": "o58-TEIhveiU"
      },
      "execution_count": null,
      "outputs": []
    },
    {
      "cell_type": "markdown",
      "source": [
        "##### 1. Why did you pick the specific chart?"
      ],
      "metadata": {
        "id": "EXh0U9oCveiU"
      }
    },
    {
      "cell_type": "markdown",
      "source": [
        "Answer Here."
      ],
      "metadata": {
        "id": "eMmPjTByveiU"
      }
    },
    {
      "cell_type": "markdown",
      "source": [
        "##### 2. What is/are the insight(s) found from the chart?"
      ],
      "metadata": {
        "id": "22aHeOlLveiV"
      }
    },
    {
      "cell_type": "markdown",
      "source": [
        "Answer Here"
      ],
      "metadata": {
        "id": "uPQ8RGwHveiV"
      }
    },
    {
      "cell_type": "markdown",
      "source": [
        "## **5. Solution to Business Objective**"
      ],
      "metadata": {
        "id": "JcMwzZxoAimU"
      }
    },
    {
      "cell_type": "markdown",
      "source": [
        "#### What do you suggest the client to achieve Business Objective ?\n",
        "Explain Briefly."
      ],
      "metadata": {
        "id": "8G2x9gOozGDZ"
      }
    },
    {
      "cell_type": "markdown",
      "source": [
        "Answer Here."
      ],
      "metadata": {
        "id": "pASKb0qOza21"
      }
    },
    {
      "cell_type": "markdown",
      "source": [
        "# **Conclusion**"
      ],
      "metadata": {
        "id": "gCX9965dhzqZ"
      }
    },
    {
      "cell_type": "markdown",
      "source": [
        "Write the conclusion here."
      ],
      "metadata": {
        "id": "Fjb1IsQkh3yE"
      }
    },
    {
      "cell_type": "markdown",
      "source": [
        "### ***Hurrah! You have successfully completed your EDA Capstone Project !!!***"
      ],
      "metadata": {
        "id": "gIfDvo9L0UH2"
      }
    }
  ]
}